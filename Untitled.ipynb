{
 "cells": [
  {
   "cell_type": "code",
   "execution_count": 2,
   "metadata": {},
   "outputs": [],
   "source": [
    "import os, random\n",
    "from surprise import Reader\n",
    "from surprise import accuracy\n",
    "from surprise import SVD, GridSearch, BaselineOnly, NormalPredictor, SlopeOne, CoClustering, SVDpp, SVDppMultipleImplicitFeedback\n",
    "from surprise import NMF, KNNBasic, KNNWithMeans, KNNBaseline, NMF\n",
    "from surprise import Dataset\n",
    "from surprise import evaluate, print_perf"
   ]
  },
  {
   "cell_type": "code",
   "execution_count": 3,
   "metadata": {
    "collapsed": true
   },
   "outputs": [],
   "source": [
    "\n",
    "binarized_columns = [\n",
    "                    \"author_recipes_count_more_than_average\",\n",
    "                    \"actions_binded_to_trigger_more_than_average\",\n",
    "                     \"action_uses_count_more_than_average\",\n",
    "                    \"trigger_uses_count_more_than_average\",\n",
    "                     \"triggers_binded_to_actions_more_than_average\"]\n"
   ]
  },
  {
   "cell_type": "code",
   "execution_count": null,
   "metadata": {
    "collapsed": true
   },
   "outputs": [],
   "source": [
    "for column in binarized_columns:\n",
    "\n",
    "    # Dataset load file\n",
    "    file_path ='/Users/poguez/Desktop/ifttt-recipes/data/'+str(column)+'/ifttt_dataset_for_recommendation_composed_ints.csv'\n",
    "    reader = Reader(line_format=\"user item rating timestamp implicit_feedback_2\", sep='\\t', skip_lines=0)\n",
    "    data_ifttt_dataset_for_recommendation_composed = Dataset.load_from_file(file_path, reader=reader)\n",
    "    data_ifttt_dataset_for_recommendation_composed.split(n_folds=10)\n",
    "\n",
    "\n",
    "    # We'll use the famous SVD++ algorithm but improved by for TAP.\n",
    "    svdPredictor = SVDppMultipleImplicitFeedback(verbose=True)\n",
    "\n",
    "    data2 = data_ifttt_dataset_for_recommendation_composed\n",
    "    print(\"#################################################\\n\\n\\n \" + \"Analyzing: \"+ column +\"\\n\\n\\n#################################################\\n\\n\\n \" )\n",
    "\n",
    "    perf = evaluate(svdPredictor, data2, measures=['RMSE', 'MAE'])\n",
    "\n",
    "    # print_perf(perf)"
   ]
  },
  {
   "cell_type": "code",
   "execution_count": null,
   "metadata": {
    "collapsed": true
   },
   "outputs": [],
   "source": []
  }
 ],
 "metadata": {
  "kernelspec": {
   "display_name": "Python (hashmail)",
   "language": "python",
   "name": "hashmail"
  },
  "language_info": {
   "codemirror_mode": {
    "name": "ipython",
    "version": 2
   },
   "file_extension": ".py",
   "mimetype": "text/x-python",
   "name": "python",
   "nbconvert_exporter": "python",
   "pygments_lexer": "ipython2",
   "version": "2.7.13"
  }
 },
 "nbformat": 4,
 "nbformat_minor": 1
}
